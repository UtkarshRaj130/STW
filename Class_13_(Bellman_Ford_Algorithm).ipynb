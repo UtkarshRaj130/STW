{
  "nbformat": 4,
  "nbformat_minor": 0,
  "metadata": {
    "colab": {
      "provenance": [],
      "authorship_tag": "ABX9TyPUnxUH8esdChe97JfN3cCR",
      "include_colab_link": true
    },
    "kernelspec": {
      "name": "python3",
      "display_name": "Python 3"
    },
    "language_info": {
      "name": "python"
    }
  },
  "cells": [
    {
      "cell_type": "markdown",
      "metadata": {
        "id": "view-in-github",
        "colab_type": "text"
      },
      "source": [
        "<a href=\"https://colab.research.google.com/github/UtkarshRaj130/STW/blob/main/Class_13_(Bellman_Ford_Algorithm).ipynb\" target=\"_parent\"><img src=\"https://colab.research.google.com/assets/colab-badge.svg\" alt=\"Open In Colab\"/></a>"
      ]
    },
    {
      "cell_type": "markdown",
      "source": [
        "#Bellman-Ford Algorithm"
      ],
      "metadata": {
        "id": "glLWqtEFpMXg"
      }
    },
    {
      "cell_type": "markdown",
      "source": [
        "Bellman-Ford is a well-known algorithm in graph theory used to find the shortest paths from a single source vertex to all other vertices in a weighted graph, even in the presence of negative weight edges, as long as there are no negative weight cycles reachable from the source vertex."
      ],
      "metadata": {
        "id": "fxLKIbNkWMRm"
      }
    },
    {
      "cell_type": "markdown",
      "source": [
        "Original Bellman-Ford Algorithm doesn't include negative cycle checking."
      ],
      "metadata": {
        "id": "CB-o5R_LexyY"
      }
    },
    {
      "cell_type": "code",
      "source": [
        "float('inf') < float('inf') + 1"
      ],
      "metadata": {
        "colab": {
          "base_uri": "https://localhost:8080/"
        },
        "id": "qRTYkEdPgfQ-",
        "outputId": "dde9e296-9d61-47f9-f13c-714e5c044621"
      },
      "execution_count": 7,
      "outputs": [
        {
          "output_type": "execute_result",
          "data": {
            "text/plain": [
              "False"
            ]
          },
          "metadata": {},
          "execution_count": 7
        }
      ]
    },
    {
      "cell_type": "code",
      "execution_count": 16,
      "metadata": {
        "colab": {
          "base_uri": "https://localhost:8080/"
        },
        "id": "X-xG_z9IV5KM",
        "outputId": "cd668969-22ff-48a2-f7f5-fbeb2ef33f9b"
      },
      "outputs": [
        {
          "output_type": "stream",
          "name": "stdout",
          "text": [
            "{'A': 0, 'B': inf, 'C': inf, 'D': inf, 'E': inf}\n",
            "{'A': 0, 'B': -1, 'C': 4, 'D': inf, 'E': inf}\n",
            "{'A': 0, 'B': -1, 'C': 2, 'D': 1, 'E': 1}\n",
            "{'A': 0, 'B': -1, 'C': 2, 'D': 1, 'E': 1}\n",
            "{'A': 0, 'B': -1, 'C': 2, 'D': 1, 'E': 1}\n",
            "{'A': 0, 'B': -1, 'C': 2, 'D': -2, 'E': 1}\n",
            "{'A': 0, 'B': -1, 'C': 2, 'D': -2, 'E': 1}\n",
            "{'A': 0, 'B': -1, 'C': 2, 'D': -2, 'E': 1}\n",
            "{'A': 0, 'B': -1, 'C': 2, 'D': -2, 'E': 1}\n",
            "{'A': 0, 'B': -1, 'C': 2, 'D': -2, 'E': 1}\n",
            "{'A': 0, 'B': -1, 'C': 2, 'D': -2, 'E': 1}\n",
            "{'A': 0, 'B': -1, 'C': 2, 'D': -2, 'E': 1}\n",
            "{'A': 0, 'B': -1, 'C': 2, 'D': -2, 'E': 1}\n",
            "{'A': 0, 'B': -1, 'C': 2, 'D': -2, 'E': 1}\n",
            "{'A': 0, 'B': -1, 'C': 2, 'D': -2, 'E': 1}\n",
            "{'A': 0, 'B': -1, 'C': 2, 'D': -2, 'E': 1}\n",
            "{'A': 0, 'B': -1, 'C': 2, 'D': -2, 'E': 1}\n",
            "{'A': 0, 'B': -1, 'C': 2, 'D': -2, 'E': 1}\n",
            "{'A': 0, 'B': -1, 'C': 2, 'D': -2, 'E': 1}\n",
            "{'A': 0, 'B': -1, 'C': 2, 'D': -2, 'E': 1}\n",
            "{'A': 0, 'B': -1, 'C': 2, 'D': -2, 'E': 1}\n"
          ]
        }
      ],
      "source": [
        "#sir's code\n",
        "\n",
        "def bellman_ford(graph, source):\n",
        "  #Step 1: Initialize distances\n",
        "  distances = {vertex: float('inf') for vertex in graph}\n",
        "  distances[source] = 0\n",
        "\n",
        "  #Step 2: Relax Edges\n",
        "  for i in range(len(graph)-1):\n",
        "\n",
        "    for u in graph:\n",
        "      print(distances)\n",
        "      for v, weight in graph[u].items():\n",
        "        if distances[u] != float('inf') and distances[u] + weight < distances[v]:\n",
        "          distances[v] = distances[u] + weight\n",
        "\n",
        "  #Step 3: Check for negative weight cycles\n",
        "  for u in  graph:\n",
        "    for v, weight in graph[u].items():\n",
        "      if distances[u] != float('inf') and distances[u] + weight < distances[v] :\n",
        "        raise ValueError(\"Graph contains negative weight cycle\")\n",
        "\n",
        "  return distances\n",
        "\n",
        "#Example 1\n",
        "graph = {\n",
        "    'A' : {'B': -1, 'C': 4},\n",
        "    'B' : {'C': 3, 'D': 2, 'E': 2},\n",
        "    'C' : {},\n",
        "    'D' : {'B': 1, 'C': 5},\n",
        "    'E' : {'D': -3},\n",
        "}\n",
        "source = 'A'\n",
        "\n",
        "# Example 2 (with negative weight cycle)\n",
        "# graph = {\n",
        "#     '1' : {'2': 4, '4': 5},\n",
        "#     '2' : {'4': 5},\n",
        "#     '3' : {'2': -10},\n",
        "#     '4' : {'3': 3},\n",
        "# }\n",
        "# source = '1'\n",
        "\n",
        "print(bellman_ford(graph, source))"
      ]
    },
    {
      "cell_type": "markdown",
      "source": [
        "#Minimum Spanning Tree"
      ],
      "metadata": {
        "id": "HUi3vE9npTsp"
      }
    },
    {
      "cell_type": "markdown",
      "source": [
        "* Laying Fiber optics between many cities with minimum length\n",
        "* Travel Salesman Problem\n",
        "* Effect on elections (Twitter Network Example)"
      ],
      "metadata": {
        "id": "CrMZsu5-qk7Q"
      }
    },
    {
      "cell_type": "code",
      "source": [],
      "metadata": {
        "id": "nG1v8oNspbSM"
      },
      "execution_count": null,
      "outputs": []
    }
  ]
}